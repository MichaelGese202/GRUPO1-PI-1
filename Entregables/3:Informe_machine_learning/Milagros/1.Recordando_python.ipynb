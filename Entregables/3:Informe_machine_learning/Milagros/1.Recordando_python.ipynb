{
 "cells": [
  {
   "cell_type": "markdown",
   "metadata": {
    "id": "DyExXvqKpi0t"
   },
   "source": [
    "<img src=\"https://raw.githubusercontent.com/ulewis/Ejemplos/main/Im%C3%A1genes/PORTADA_PI1.png\" alt=\"UPCH\" width=\"900\">\n"
   ]
  },
  {
   "cell_type": "markdown",
   "metadata": {},
   "source": [
    "Analizando algunos detalles basicos de lenguaje Python."
   ]
  },
  {
   "cell_type": "markdown",
   "metadata": {},
   "source": [
    "# Introducción básica"
   ]
  },
  {
   "cell_type": "markdown",
   "metadata": {
    "id": "zMPKE5ZTT1iA"
   },
   "source": [
    "## 1. **Tipos de datos básicos en Python**\n"
   ]
  },
  {
   "cell_type": "markdown",
   "metadata": {
    "id": "IZ43oLDGEGrQ"
   },
   "source": [
    ">#### **Tipado Dinámico**\n",
    "El valor de las varibales se cambia de forma directa, y se pueden hacer conversiones de tipos de datos."
   ]
  },
  {
   "cell_type": "code",
   "execution_count": 61,
   "metadata": {
    "colab": {
     "base_uri": "https://localhost:8080/"
    },
    "executionInfo": {
     "elapsed": 374,
     "status": "ok",
     "timestamp": 1724352113568,
     "user": {
      "displayName": "Umbert Lewis De La Cruz Rodriguez",
      "userId": "06308596113481217675"
     },
     "user_tz": 300
    },
    "id": "QXmczbTLEdVP",
    "outputId": "9316694b-6339-4f33-8b94-88afb19d5e0f"
   },
   "outputs": [
    {
     "name": "stdout",
     "output_type": "stream",
     "text": [
      "el número es : \n",
      "5.0\n",
      "<class 'float'>\n"
     ]
    }
   ],
   "source": [
    "# CREAMOS INICIALMENTE UNA VARIABLE DEL TIPO NUMÉRICO\n",
    "numero = 5.0\n",
    "print(\"el número es : \")\n",
    "print(numero)\n",
    "print(type(numero))\n"
   ]
  },
  {
   "cell_type": "code",
   "execution_count": 62,
   "metadata": {
    "colab": {
     "base_uri": "https://localhost:8080/"
    },
    "executionInfo": {
     "elapsed": 354,
     "status": "ok",
     "timestamp": 1724352127261,
     "user": {
      "displayName": "Umbert Lewis De La Cruz Rodriguez",
      "userId": "06308596113481217675"
     },
     "user_tz": 300
    },
    "id": "QI8W6KoBEopK",
    "outputId": "2367a16d-ef29-4ba9-e4cc-2438deff6d78"
   },
   "outputs": [
    {
     "name": "stdout",
     "output_type": "stream",
     "text": [
      "<class 'float'>\n",
      "<class 'str'>\n"
     ]
    }
   ],
   "source": [
    "print(type(numero))# DE FORMA DIRECTA CAMBIAMOS EL CONTENIDO DE LA VARIABLE.\n",
    "#ESTA SE AJUSTA Y CONVIERTE AL TIPO DE DATOS SEGÚN SU ENTRADA\n",
    "numero = \"hola\"\n",
    "print(type(numero))\n"
   ]
  },
  {
   "cell_type": "markdown",
   "metadata": {
    "id": "POBf0uT-zHpR"
   },
   "source": [
    "\n",
    ">#### **Variables**\n",
    "\n",
    "Una variable almacena un valor y se le asigna un nombre. Hay diversos tipos de variables y obedecen a diferentes propósitos.\n",
    " - Las variables son **sensibles a Mayúsculas y minúsculas**.\n",
    " - En Python existen **3 tipos de Datos Basicos** (entero, string e booleano).\n",
    "Ahora veremos los tres tipos de datos básicos que una variable puede ser:"
   ]
  },
  {
   "cell_type": "code",
   "execution_count": 63,
   "metadata": {
    "colab": {
     "base_uri": "https://localhost:8080/"
    },
    "executionInfo": {
     "elapsed": 320,
     "status": "ok",
     "timestamp": 1724352153306,
     "user": {
      "displayName": "Umbert Lewis De La Cruz Rodriguez",
      "userId": "06308596113481217675"
     },
     "user_tz": 300
    },
    "id": "p9OMI5j_zLkm",
    "outputId": "fa5a1b23-d45b-4499-a4c3-415d2e62038d"
   },
   "outputs": [
    {
     "name": "stdout",
     "output_type": "stream",
     "text": [
      "<class 'int'>\n",
      "<class 'float'>\n",
      "<class 'str'>\n"
     ]
    }
   ],
   "source": [
    "var = 10\n",
    "print(type(var))\n",
    "\n",
    "var = 10.1\n",
    "print(type(var))\n",
    "\n",
    "var = \"Hola\"\n",
    "print(type(var))\n"
   ]
  },
  {
   "cell_type": "markdown",
   "metadata": {
    "id": "W2Hn7tbyVcvl"
   },
   "source": [
    "\n",
    ">#####  **Datos Numéricos**\n"
   ]
  },
  {
   "cell_type": "code",
   "execution_count": 64,
   "metadata": {
    "id": "WB7o5as_jm4Y"
   },
   "outputs": [
    {
     "name": "stdout",
     "output_type": "stream",
     "text": [
      "10\n",
      "<class 'int'>\n"
     ]
    }
   ],
   "source": [
    "# VARIABLES ENTERAS\n",
    "num_int = 10          # No se necesita punto y coma al final\n",
    "print(num_int)        # Imprimir en consola el valor de la variable\n",
    "print(type(num_int))  # \"type\" muestra el tipo de dato que es mi variable"
   ]
  },
  {
   "cell_type": "code",
   "execution_count": 65,
   "metadata": {
    "id": "lSn_rzslkHkf"
   },
   "outputs": [
    {
     "name": "stdout",
     "output_type": "stream",
     "text": [
      "10.5\n",
      "<class 'float'>\n"
     ]
    }
   ],
   "source": [
    "# VARIABLES FLOTANTES\n",
    "num_float = 10.5          # Los flotantes son números con punto decimal\n",
    "print(num_float)\n",
    "print(type(num_float))"
   ]
  },
  {
   "cell_type": "code",
   "execution_count": 66,
   "metadata": {
    "id": "i1fYldZ_ji70"
   },
   "outputs": [
    {
     "name": "stdout",
     "output_type": "stream",
     "text": [
      "5.0\n",
      "2.0\n",
      "(5+2j)\n",
      "<class 'complex'>\n"
     ]
    }
   ],
   "source": [
    "# NÚMEROS COMPLEJOS\n",
    "# R + aj\n",
    "num_compl = 5 + 2j\n",
    "print(num_compl.real)\n",
    "print(num_compl.imag)\n",
    "print(num_compl)\n",
    "print(type(num_compl))"
   ]
  },
  {
   "cell_type": "code",
   "execution_count": 67,
   "metadata": {
    "id": "nAdY7Zrtkucp"
   },
   "outputs": [
    {
     "name": "stdout",
     "output_type": "stream",
     "text": [
      "3215\n"
     ]
    }
   ],
   "source": [
    "# TAMBIEN PODEMOS DEFINIR NUMEROS EN EL SISTEMA OCTAL\n",
    "num_base_8 = 0o6217   # 271 en decimal\n",
    "print(num_base_8)"
   ]
  },
  {
   "cell_type": "code",
   "execution_count": 68,
   "metadata": {
    "id": "YXRSJ1JWk-1t"
   },
   "outputs": [
    {
     "name": "stdout",
     "output_type": "stream",
     "text": [
      "5412\n"
     ]
    }
   ],
   "source": [
    "# LO MISMO PASA CON EL SISTEMA HEXADECIMAL\n",
    "num_base_16 = 0x1524  # 292 en decimal\n",
    "print(num_base_16)"
   ]
  },
  {
   "cell_type": "markdown",
   "metadata": {
    "id": "BX4W2UXkls_U"
   },
   "source": [
    "\n",
    "\n",
    ">###  **Datos del Tipo String o cadenas de caracteres**\n",
    "\n",
    "\n",
    "\n",
    "\n"
   ]
  },
  {
   "cell_type": "code",
   "execution_count": 69,
   "metadata": {
    "id": "zwzi8gidl4-j"
   },
   "outputs": [
    {
     "name": "stdout",
     "output_type": "stream",
     "text": [
      "¡Hola estudiantes de la Universidad Peruana Cayetano Heredia !\n",
      "<class 'str'>\n"
     ]
    }
   ],
   "source": [
    "# SE PUEDEN USAR ASPAS DOBLES PARA DEFINIR UN STRING\n",
    "texto_asp_dob = \"¡Hola estudiantes de la Universidad Peruana Cayetano Heredia !\"\n",
    "print(texto_asp_dob)\n",
    "print(type(texto_asp_dob))"
   ]
  },
  {
   "cell_type": "code",
   "execution_count": 70,
   "metadata": {
    "id": "oK1muzGrmCWw"
   },
   "outputs": [
    {
     "name": "stdout",
     "output_type": "stream",
     "text": [
      "hola amigos\n"
     ]
    }
   ],
   "source": [
    "# TAMBIEN, SE PUEDEN USAR ASPAS SIMPLES ...\n",
    "texto_asp_simp = 'hola amigos'\n",
    "print(texto_asp_simp)"
   ]
  },
  {
   "cell_type": "code",
   "execution_count": 71,
   "metadata": {
    "id": "8x02zyqumQiB"
   },
   "outputs": [
    {
     "name": "stdout",
     "output_type": "stream",
     "text": [
      " 'hola amigos' \n"
     ]
    }
   ],
   "source": [
    "# Y ¿SI QUEREMOS MOSTRASLAS ASPAS EN LA SALIDA DEL TEXTO? PUES, TODO BIEN ...\n",
    "text_asp_dentro = \" 'hola amigos' \"\n",
    "print(text_asp_dentro)\n"
   ]
  },
  {
   "cell_type": "code",
   "execution_count": 72,
   "metadata": {
    "id": "fDwe097Q3Hyr"
   },
   "outputs": [
    {
     "name": "stdout",
     "output_type": "stream",
     "text": [
      " \"hola amigos\" \n"
     ]
    }
   ],
   "source": [
    "texto_asp_simp = ' \"hola amigos\" '\n",
    "print(texto_asp_simp)\n"
   ]
  },
  {
   "cell_type": "markdown",
   "metadata": {
    "id": "0zE3Fnmowp30"
   },
   "source": [
    ">###  **Datos del Tipo Booleano**\n",
    "\n",
    "---\n",
    "*   La primera letra debe estar siempre en Mayusculas con **T** para VERDADERO\n",
    "*   La primera letra debe estar siempre en Mayusculas con **F** para FALSO\n",
    "* Python implementa todos los operadores usuales de la lógica booleana, usando palabras en inglés **(and, or, not)** en lugar de símbolos (||, &&, !, etc).\n",
    "\n",
    "También se tienen los típicos operadores de comparación:\n",
    "\n",
    "<table align=\"left\">\n",
    "<thead>\n",
    "<tr>\n",
    "<th>Símbolo</th>\n",
    "<th>Significado</th>\n",
    "<th>Ejemplo</th>\n",
    "<th>Resultado</th>\n",
    "</tr>\n",
    "</thead>\n",
    "<tbody>\n",
    "<tr>\n",
    "<td><code>==</code></td>\n",
    "<td>Igual que</td>\n",
    "<td><code>5 == 7</code></td>\n",
    "<td><code>False</code></td>\n",
    "</tr>\n",
    "<tr>\n",
    "<td><code>!=</code></td>\n",
    "<td>Distinto que</td>\n",
    "<td><code>rojo != verde</code></td>\n",
    "<td><code>True</code></td>\n",
    "</tr>\n",
    "<tr>\n",
    "<td><code>&lt;</code></td>\n",
    "<td>Menor que</td>\n",
    "<td><code>8 &lt; 12</code></td>\n",
    "<td><code>True</code></td>\n",
    "</tr>\n",
    "<tr>\n",
    "<td><code>&gt;</code></td>\n",
    "<td>Mayor que</td>\n",
    "<td><code>12 &gt; 7</code></td>\n",
    "<td><code>True</code></td>\n",
    "</tr>\n",
    "<tr>\n",
    "<td><code>&lt;=</code></td>\n",
    "<td>Menor o igual que</td>\n",
    "<td><code>12 &lt;= 12</code></td>\n",
    "<td><code>True</code></td>\n",
    "</tr>\n",
    "<tr>\n",
    "<td><code>&gt;=</code></td>\n",
    "<td>Mayor o igual que</td>\n",
    "<td><code>4 &gt;= 5</code></td>\n",
    "<td><code>False</code></td>\n",
    "</tr>\n",
    "</tbody>\n",
    "</table>"
   ]
  },
  {
   "cell_type": "code",
   "execution_count": 73,
   "metadata": {
    "id": "VXUVZk1rxVsS"
   },
   "outputs": [
    {
     "name": "stdout",
     "output_type": "stream",
     "text": [
      "True\n"
     ]
    }
   ],
   "source": [
    "valor_A = True\n",
    "print(valor_A)"
   ]
  },
  {
   "cell_type": "code",
   "execution_count": 74,
   "metadata": {
    "id": "xiOhVR4txcQO"
   },
   "outputs": [
    {
     "name": "stdout",
     "output_type": "stream",
     "text": [
      "False\n"
     ]
    }
   ],
   "source": [
    "valor_B = False\n",
    "print(valor_B)"
   ]
  },
  {
   "cell_type": "code",
   "execution_count": 75,
   "metadata": {
    "id": "AaxKvrMixgYm"
   },
   "outputs": [
    {
     "name": "stdout",
     "output_type": "stream",
     "text": [
      "True\n"
     ]
    }
   ],
   "source": [
    "print(not valor_B)"
   ]
  },
  {
   "cell_type": "code",
   "execution_count": 76,
   "metadata": {
    "id": "GJhsj-Jyxpx_"
   },
   "outputs": [
    {
     "name": "stdout",
     "output_type": "stream",
     "text": [
      "True\n"
     ]
    }
   ],
   "source": [
    "# A and B or A\n",
    "print(valor_A and valor_B or valor_A)"
   ]
  },
  {
   "cell_type": "code",
   "execution_count": 77,
   "metadata": {
    "id": "PXZtkUVOTCbx"
   },
   "outputs": [
    {
     "name": "stdout",
     "output_type": "stream",
     "text": [
      "False\n"
     ]
    }
   ],
   "source": [
    "# B and B or (A and B) and (A or A)\n",
    "\n",
    "print(valor_B and valor_B or (valor_A and valor_B) and (valor_A or valor_A))"
   ]
  },
  {
   "cell_type": "code",
   "execution_count": 78,
   "metadata": {
    "id": "wu6bU5n5V5io"
   },
   "outputs": [
    {
     "name": "stdout",
     "output_type": "stream",
     "text": [
      "True\n"
     ]
    }
   ],
   "source": [
    "# (B != A) and (A == not B)\n",
    "\n",
    "print((valor_B != valor_A) and (valor_A == (not valor_B)))\n"
   ]
  },
  {
   "cell_type": "code",
   "execution_count": 79,
   "metadata": {
    "id": "72BkVCpuIRdt"
   },
   "outputs": [
    {
     "name": "stdout",
     "output_type": "stream",
     "text": [
      "False\n"
     ]
    }
   ],
   "source": [
    "# (not A == not B) and [(B) or (not B or A)]\n",
    "\n",
    "print((not valor_A == (not valor_B)) and [(valor_B) or ((not valor_B) or valor_A)])"
   ]
  },
  {
   "cell_type": "markdown",
   "metadata": {
    "id": "I77ldK2cySMc"
   },
   "source": [
    ">###  **El comando PRINT()**\n",
    "\n",
    "Nos permite mostrar en la pantalla el contenido de nuestras variables, asi como mensajes.\n",
    "\n"
   ]
  },
  {
   "cell_type": "code",
   "execution_count": 80,
   "metadata": {
    "executionInfo": {
     "elapsed": 368,
     "status": "ok",
     "timestamp": 1724352248046,
     "user": {
      "displayName": "Umbert Lewis De La Cruz Rodriguez",
      "userId": "06308596113481217675"
     },
     "user_tz": 300
    },
    "id": "az2lZ7-JyP_Z"
   },
   "outputs": [],
   "source": [
    "num_1 = 8\n",
    "num_2 = 2\n",
    "\n",
    "resultado = (num_1 + num_2)/3.0"
   ]
  },
  {
   "cell_type": "code",
   "execution_count": 81,
   "metadata": {
    "colab": {
     "base_uri": "https://localhost:8080/"
    },
    "executionInfo": {
     "elapsed": 338,
     "status": "ok",
     "timestamp": 1724352250311,
     "user": {
      "displayName": "Umbert Lewis De La Cruz Rodriguez",
      "userId": "06308596113481217675"
     },
     "user_tz": 300
    },
    "id": "dNjz41tA5UD-",
    "outputId": "96431718-2928-432d-e656-e07440c15e86"
   },
   "outputs": [
    {
     "name": "stdout",
     "output_type": "stream",
     "text": [
      "3.3333333333333335\n"
     ]
    }
   ],
   "source": [
    "print(resultado)"
   ]
  },
  {
   "cell_type": "code",
   "execution_count": 82,
   "metadata": {
    "id": "x5h7GKgUQgnx"
   },
   "outputs": [
    {
     "name": "stdout",
     "output_type": "stream",
     "text": [
      "El resultado de 8 mas 2 es 3.3333333333333335\n"
     ]
    }
   ],
   "source": [
    "print(\"El resultado de\", num_1, \"mas\", num_2, \"es\", resultado)\n",
    "# Esta es una forma típica"
   ]
  },
  {
   "cell_type": "code",
   "execution_count": 83,
   "metadata": {
    "colab": {
     "base_uri": "https://localhost:8080/"
    },
    "executionInfo": {
     "elapsed": 361,
     "status": "ok",
     "timestamp": 1724352357203,
     "user": {
      "displayName": "Umbert Lewis De La Cruz Rodriguez",
      "userId": "06308596113481217675"
     },
     "user_tz": 300
    },
    "id": "MLKF44KMQrB9",
    "outputId": "cd41b6a1-6da1-4393-d55c-97544326cd64"
   },
   "outputs": [
    {
     "name": "stdout",
     "output_type": "stream",
     "text": [
      "El resultado de 8 mas 2 es 3.33\n"
     ]
    }
   ],
   "source": [
    "print(\"El resultado de {} mas {} es {:.2f}\".format(num_1, num_2, resultado))\n",
    "# Este es el método más usado en Python2.x"
   ]
  },
  {
   "cell_type": "code",
   "execution_count": 84,
   "metadata": {
    "colab": {
     "base_uri": "https://localhost:8080/"
    },
    "executionInfo": {
     "elapsed": 355,
     "status": "ok",
     "timestamp": 1724352393373,
     "user": {
      "displayName": "Umbert Lewis De La Cruz Rodriguez",
      "userId": "06308596113481217675"
     },
     "user_tz": 300
    },
    "id": "LYewCz4kaP3b",
    "outputId": "51a48779-09b9-44e3-a906-08c12efd8844"
   },
   "outputs": [
    {
     "name": "stdout",
     "output_type": "stream",
     "text": [
      "El resultado de 8 mas 2 es 3.3\n"
     ]
    }
   ],
   "source": [
    "print(f\"El resultado de {num_1} mas {num_2} es {resultado:.1f}\")\n",
    "# Este es el nuevo formato desde Python 3, más ordenado para redondeo"
   ]
  },
  {
   "cell_type": "markdown",
   "metadata": {
    "id": "EyrHBXKdD_UW"
   },
   "source": [
    "## **2. Operadores Aritméticos en Python**\n",
    "---"
   ]
  },
  {
   "cell_type": "markdown",
   "metadata": {
    "id": "UU8SKR04Hahy"
   },
   "source": [
    "```\n",
    "----------------------------------------------------------\n",
    " Símbolo  Significado        Ejemplo            Resultado\n",
    "   +       suma              a = 10 + 5         a es 15\n",
    "   -       resta             a = 12 - 7         a es  5\n",
    "   -       negaciòn          a = -5             a es -5\n",
    "   *       multiplicación    a = 7 * 5          a es 35\n",
    "  **       potencia          a = 2 ** 3         a es  8\n",
    "   /       división          a = 12.5 / 2       a es  6.25\n",
    "  //       división entera  a = 12.5 // 2      a es  6.0\n",
    "   %       módulo            a = 27 % 4         a es  3\n",
    "----------------------------------------------------------\n",
    "```\n",
    "SUGERENCIA:\n",
    "Coloque siempre un espacio en blanco antes y despues de un operador"
   ]
  },
  {
   "cell_type": "markdown",
   "metadata": {
    "id": "XEfmr-QcYl8J"
   },
   "source": [
    "**Ejemplo de Suma**"
   ]
  },
  {
   "cell_type": "code",
   "execution_count": 85,
   "metadata": {
    "id": "oAwq_WraXOoK"
   },
   "outputs": [
    {
     "name": "stdout",
     "output_type": "stream",
     "text": [
      "El resultado de 10 más 15 es 25\n"
     ]
    }
   ],
   "source": [
    "num_1 = 10\n",
    "num_2 = 15\n",
    "\n",
    "valor = num_1 + num_2\n",
    "\n",
    "print(f\"El resultado de {num_1} más {num_2} es {valor}\")"
   ]
  },
  {
   "cell_type": "markdown",
   "metadata": {
    "id": "f4yFIhVDaFsV"
   },
   "source": [
    "**Ejemplo de Substracción**"
   ]
  },
  {
   "cell_type": "code",
   "execution_count": 86,
   "metadata": {
    "id": "F2K-j5Z_ZYJZ"
   },
   "outputs": [
    {
     "name": "stdout",
     "output_type": "stream",
     "text": [
      "El resultado de 10 menos 15 es -5\n"
     ]
    }
   ],
   "source": [
    "valor = num_1 - num_2\n",
    "print(f\"El resultado de {num_1} menos {num_2} es {valor}\")"
   ]
  },
  {
   "cell_type": "markdown",
   "metadata": {
    "id": "-YMWN4rNak5J"
   },
   "source": [
    "**Ejemplo de Negación**"
   ]
  },
  {
   "cell_type": "code",
   "execution_count": 87,
   "metadata": {
    "id": "2jE0u52-Znq4"
   },
   "outputs": [
    {
     "name": "stdout",
     "output_type": "stream",
     "text": [
      "La negación de 10 es -10\n",
      "La negación de 10 es -10\n"
     ]
    }
   ],
   "source": [
    "valor = - num_1\n",
    "\n",
    "print(f\"La negación de {num_1} es {valor}\")\n",
    "print(\"La negación de {} es {}\".format(num_1, valor))"
   ]
  },
  {
   "cell_type": "markdown",
   "metadata": {
    "id": "qS_am-kUbggJ"
   },
   "source": [
    "**Ejemplo de Multiplicación**"
   ]
  },
  {
   "cell_type": "code",
   "execution_count": 88,
   "metadata": {
    "id": "FShCaN2Zblsw"
   },
   "outputs": [
    {
     "name": "stdout",
     "output_type": "stream",
     "text": [
      "El resutlado de 10 por 15 es 150\n",
      "El resultado de 10 por 15 es 150\n"
     ]
    }
   ],
   "source": [
    "valor = num_1 * num_2\n",
    "print(f\"El resutlado de {num_1} por {num_2} es {valor}\")\n",
    "print(\"El resultado de {} por {} es {}\".format(num_1, num_2, valor))"
   ]
  },
  {
   "cell_type": "markdown",
   "metadata": {
    "id": "HHNq9R4SfNhI"
   },
   "source": [
    "**Ejemplo de División**"
   ]
  },
  {
   "cell_type": "code",
   "execution_count": 89,
   "metadata": {
    "id": "OBkoGEY3fNFR"
   },
   "outputs": [
    {
     "name": "stdout",
     "output_type": "stream",
     "text": [
      "La division de 10 con 15 es 0.6666666666666666\n",
      "La division de 10 con 15 es 0.6667\n"
     ]
    }
   ],
   "source": [
    "valor = num_1 / num_2\n",
    "print(f\"La division de {num_1} con {num_2} es {valor}\")     # Sin redondear\n",
    "print(f\"La division de {num_1} con {num_2} es {valor:.4f}\") # Redondeando\n"
   ]
  },
  {
   "cell_type": "markdown",
   "metadata": {
    "id": "GrLSxgFRhifj"
   },
   "source": [
    "**Ejemplo de Divisón entera y modulo**"
   ]
  },
  {
   "cell_type": "code",
   "execution_count": 90,
   "metadata": {
    "id": "BspLdMp8hnYZ"
   },
   "outputs": [
    {
     "name": "stdout",
     "output_type": "stream",
     "text": [
      "el cociente de dividir 15 entre 10 es 1\n",
      "el modulo de dividir 15 entre 10 es 5\n"
     ]
    }
   ],
   "source": [
    "# cociente\n",
    "valor = num_2 // num_1\n",
    "print(f\"el cociente de dividir {num_2} entre {num_1} es {valor}\")\n",
    "\n",
    "# modulo o resto\n",
    "valor = num_2 % num_1\n",
    "print(f\"el modulo de dividir {num_2} entre {num_1} es {valor}\")"
   ]
  },
  {
   "cell_type": "markdown",
   "metadata": {
    "id": "mZ0R7NFUg845"
   },
   "source": [
    "**Ejemplo de Potencia**"
   ]
  },
  {
   "cell_type": "code",
   "execution_count": 91,
   "metadata": {
    "id": "jNBfeC4dhBAQ"
   },
   "outputs": [
    {
     "name": "stdout",
     "output_type": "stream",
     "text": [
      "10 elevado al 3 es 1000\n"
     ]
    }
   ],
   "source": [
    "pot = 3\n",
    "valor = num_1 ** pot\n",
    "\n",
    "print(f\"{num_1} elevado al {pot} es {valor}\")"
   ]
  },
  {
   "cell_type": "markdown",
   "metadata": {
    "id": "ccI_bXI7L9HY"
   },
   "source": [
    "## **3. Asignaciones en Python**\n",
    "---"
   ]
  },
  {
   "cell_type": "markdown",
   "metadata": {
    "id": "318gztmxMGot"
   },
   "source": [
    "Si queremos intercambiar el valor de dos o más variables podemos hacer lo siguiente:"
   ]
  },
  {
   "cell_type": "code",
   "execution_count": 92,
   "metadata": {
    "id": "ivKOnv6uMIUH"
   },
   "outputs": [
    {
     "name": "stdout",
     "output_type": "stream",
     "text": [
      "a es 10, b es 25, c es 15, d es 38\n",
      "a es 25, b es 10, c es 38, d es 15\n"
     ]
    }
   ],
   "source": [
    "a = 10\n",
    "b = 25\n",
    "c = 15\n",
    "d = 38\n",
    "\n",
    "print(f\"a es {a}, b es {b}, c es {c}, d es {d}\")\n",
    "\n",
    "a, b, c, d = b, a, d, c\n",
    "\n",
    "\n",
    "print(f\"a es {a}, b es {b}, c es {c}, d es {d}\")"
   ]
  },
  {
   "cell_type": "markdown",
   "metadata": {
    "id": "WarLlajVlbiL"
   },
   "source": [
    "## **5. Conversión de Datos en Python**\n",
    "---"
   ]
  },
  {
   "cell_type": "code",
   "execution_count": 93,
   "metadata": {
    "id": "VPyq0yJhlail"
   },
   "outputs": [
    {
     "name": "stdout",
     "output_type": "stream",
     "text": [
      "<class 'str'>\n",
      "<class 'int'>\n",
      "<class 'float'>\n"
     ]
    }
   ],
   "source": [
    "# CONNVERSION DE STRING A NÚMERO\n",
    "var_str = \"100\"\n",
    "print(type(var_str))\n",
    "\n",
    "var_int = int(var_str)\n",
    "print(type(var_int))\n",
    "\n",
    "var_flt = float(var_str)\n",
    "print(type(var_flt))"
   ]
  },
  {
   "cell_type": "code",
   "execution_count": 94,
   "metadata": {
    "id": "vBLsVh3tmZFr"
   },
   "outputs": [
    {
     "name": "stdout",
     "output_type": "stream",
     "text": [
      "<class 'int'>\n",
      "<class 'str'>\n",
      "10\n"
     ]
    }
   ],
   "source": [
    "# CONNVERSION DE NÚMERO A STRING\n",
    "var_num = 10\n",
    "print(type(var_num))\n",
    "\n",
    "var = str(var_num)\n",
    "print(type(var))\n",
    "\n",
    "var = abs(-10)\n",
    "print(var)\n",
    "\n"
   ]
  },
  {
   "cell_type": "markdown",
   "metadata": {},
   "source": [
    "# **Estructuras de Datos**"
   ]
  },
  {
   "cell_type": "markdown",
   "metadata": {},
   "source": [
    "## Lista"
   ]
  },
  {
   "cell_type": "markdown",
   "metadata": {},
   "source": [
    "Una lista es una agrupación ordenada de múltiples **tipos de datos**. A cada elemento le corresponde un **índice numérico**. Una lista se define de la siguiente manera:\n",
    "\n",
    "``` python\n",
    "  mi_lista = [\"profesor\" , 30 , True ],  \n",
    "  donde el primer elemento es \"profesor\",\n",
    "  el segundo es 30 y el tercero es True.\n",
    "```\n",
    "\n",
    "La numeración de una lista en Python empieza desde 0 (esta es una característica que deberá tener en cuenta de ahora en adelante).\n",
    "<img src=\"https://islascruz.org/blog/wp-content/uploads/2016/11/selectsort.jpg\" alt=\"Girl in a jacket\" width=\"250\" height=\"70\">\n",
    "\n",
    "Python tiene soporte para listas como un tipo predefinido del lenguaje. Para crear una lista basta con poner cosas entre **[ ]** (corchetes) y separarlas con **,** (comas).\n"
   ]
  },
  {
   "cell_type": "code",
   "execution_count": 95,
   "metadata": {},
   "outputs": [
    {
     "name": "stdout",
     "output_type": "stream",
     "text": [
      "Esta es la lista_1: ['Albert Einstein', 'físico', 1879, 'premio nobel']\n",
      "Albert Einstein\n",
      "físico\n",
      "1879\n",
      "premio nobel\n"
     ]
    }
   ],
   "source": [
    "# Definir una lista\n",
    "lista_1 = [\"Albert Einstein\", \"físico\", 1879, \"premio nobel\"]\n",
    "print(\"Esta es la lista_1:\", lista_1 )\n",
    "#Acceder a un elemento de la lista (la numeración en Python empieza en 0)\n",
    "print(lista_1[0])   #Primer elemento (empieza en 0)\n",
    "print(lista_1[1])   #Segundo elemento\n",
    "print(lista_1[2])   #Tercer elemento\n",
    "print(lista_1[3])   #Tercer elemento"
   ]
  },
  {
   "cell_type": "code",
   "execution_count": 96,
   "metadata": {},
   "outputs": [
    {
     "name": "stdout",
     "output_type": "stream",
     "text": [
      "['Albert Einstein', 'físico', 1879, 'premio nobel']\n",
      "['Albert Einstein', 'físico', 1879, 'premio nobel']\n"
     ]
    }
   ],
   "source": [
    "# 1. Mostrar toda la lista\n",
    "print(lista_1)\n",
    "print(lista_1[:])"
   ]
  },
  {
   "cell_type": "code",
   "execution_count": 97,
   "metadata": {},
   "outputs": [
    {
     "name": "stdout",
     "output_type": "stream",
     "text": [
      "premio nobel\n"
     ]
    }
   ],
   "source": [
    "# 2. Para nostrar el último elemento se usa -1\n",
    "print(lista_1[-1])"
   ]
  },
  {
   "cell_type": "markdown",
   "metadata": {},
   "source": [
    "\n",
    "\n",
    "---\n",
    "Es importante aclarar lo siguiente:\n",
    "\n",
    "![listas](https://raw.githubusercontent.com/ulewis/Ejemplos/main/Imágenes/img_notebooks/Listas.png)\n"
   ]
  },
  {
   "cell_type": "code",
   "execution_count": 98,
   "metadata": {},
   "outputs": [
    {
     "name": "stdout",
     "output_type": "stream",
     "text": [
      "['Albert Einstein', 'físico']\n",
      "['físico', 1879]\n",
      "[1879, 'premio nobel']\n"
     ]
    }
   ],
   "source": [
    "# 4. Mostrar todos los elementos a partir de una posicion inicial\n",
    "print(lista_1[0:2])\n",
    "print(lista_1[1:3])\n",
    "print(lista_1[2:])\n"
   ]
  },
  {
   "cell_type": "markdown",
   "metadata": {},
   "source": [
    "###  **Funciones Básicas para el Tratamiento de Listas**"
   ]
  },
  {
   "cell_type": "markdown",
   "metadata": {},
   "source": [
    "#### **Agregar elementos a una lista**\n",
    "\n",
    "* se usan las funciones\n",
    " * **append()** para insertar elementos al **final** de la lista\n",
    " * **insert(x, elemento)** para insertar un **elemento** en una posición **x**"
   ]
  },
  {
   "cell_type": "code",
   "execution_count": 99,
   "metadata": {},
   "outputs": [
    {
     "name": "stdout",
     "output_type": "stream",
     "text": [
      "Creamos una Lista Vacia\n"
     ]
    }
   ],
   "source": [
    "print(\"Creamos una Lista Vacia\")\n",
    "lista = list() #[]"
   ]
  },
  {
   "cell_type": "code",
   "execution_count": 100,
   "metadata": {},
   "outputs": [
    {
     "name": "stdout",
     "output_type": "stream",
     "text": [
      "Agregamos tres elemento al final de la lista usando 'append'\n",
      "['adios', 'bienvenidos', 2]\n"
     ]
    }
   ],
   "source": [
    "lista = list() #[]\n",
    "print(\"Agregamos tres elemento al final de la lista usando 'append'\")\n",
    "lista.append(\"adios\")\n",
    "lista.append(\"bienvenidos\")\n",
    "lista.append(2)\n",
    "print(lista)"
   ]
  },
  {
   "cell_type": "code",
   "execution_count": 101,
   "metadata": {},
   "outputs": [
    {
     "name": "stdout",
     "output_type": "stream",
     "text": [
      "Agregamos una lista a la lista\n",
      "Es una lista con otra lista. NO hacer esto para concatenar listas\n",
      "['hola', 23]\n",
      "['hola', 23, [45, 26]]\n"
     ]
    }
   ],
   "source": [
    "print(\"Agregamos una lista a la lista\")\n",
    "print(\"Es una lista con otra lista. NO hacer esto para concatenar listas\")\n",
    "lista = [\"hola\", 23]\n",
    "print(lista)\n",
    "lista.append([45, 26])\n",
    "print(lista)"
   ]
  },
  {
   "cell_type": "code",
   "execution_count": 102,
   "metadata": {},
   "outputs": [
    {
     "name": "stdout",
     "output_type": "stream",
     "text": [
      "Insertamos un elemento en una posicion determinada\n",
      "['hola', 0, 'que tal', 15]\n"
     ]
    }
   ],
   "source": [
    "print(\"Insertamos un elemento en una posicion determinada\")\n",
    "lista = [\"hola\", \"que tal\", 15]\n",
    "num = 0 #\n",
    "lista.insert(1, num)\n",
    "print(lista)"
   ]
  },
  {
   "cell_type": "markdown",
   "metadata": {},
   "source": [
    "#### **Eliminar elementos de una lista**\n",
    "\n",
    "* Se usan las funciones\n",
    "\n",
    " * **pop()**            para eliminar el **último** elemento de la lista\n",
    " * **pop(**x**)**    para eliminar el elemento de la posición **x**\n",
    " * **remove(**valor**)** para eliminar el primer elemento que sea igual a\n",
    " * **clear()** para eliminar todos los elementos"
   ]
  },
  {
   "cell_type": "code",
   "execution_count": 103,
   "metadata": {},
   "outputs": [
    {
     "name": "stdout",
     "output_type": "stream",
     "text": [
      "Creamos una Lista inicial\n",
      "[1, 'hola', 3, 'tú', 4, 'tú', 5, 6, 7, 8]\n"
     ]
    }
   ],
   "source": [
    "print(\"Creamos una Lista inicial\")\n",
    "lista = [1, \"hola\", 3, \"tú\", 4,\"tú\", 5, 6, 7, 8]\n",
    "print(lista)"
   ]
  },
  {
   "cell_type": "code",
   "execution_count": 104,
   "metadata": {},
   "outputs": [
    {
     "name": "stdout",
     "output_type": "stream",
     "text": [
      "Eliminar el último elemento de la lista\n",
      "[1, 'hola', 3, 'tú', 4, 'tú', 5, 6, 7]\n",
      "8\n"
     ]
    }
   ],
   "source": [
    "print(\"Eliminar el último elemento de la lista\")\n",
    "dato_eliminado = lista.pop()\n",
    "print(lista)\n",
    "print(dato_eliminado)"
   ]
  },
  {
   "cell_type": "code",
   "execution_count": 105,
   "metadata": {},
   "outputs": [
    {
     "name": "stdout",
     "output_type": "stream",
     "text": [
      "[1, 'hola', 3, 'tú', 'tú', 5, 6, 7]\n"
     ]
    }
   ],
   "source": [
    "#eliminar el indice 4\n",
    "lista.pop(4)\n",
    "print(lista)"
   ]
  },
  {
   "cell_type": "code",
   "execution_count": 106,
   "metadata": {},
   "outputs": [
    {
     "name": "stdout",
     "output_type": "stream",
     "text": [
      "Eliminar elemento por su valor (el primero que encuentra). \n",
      "[1, 'hola', 3, 'tú', 'tú', 5, 6, 7]\n",
      "[1, 'hola', 3, 'tú', 5, 6, 7]\n"
     ]
    }
   ],
   "source": [
    "print(\"Eliminar elemento por su valor (el primero que encuentra). \")\n",
    "print(lista)\n",
    "elem = \"tú\"\n",
    "lista.remove(elem)\n",
    "print(lista)"
   ]
  },
  {
   "cell_type": "code",
   "execution_count": 107,
   "metadata": {},
   "outputs": [
    {
     "name": "stdout",
     "output_type": "stream",
     "text": [
      "limpiar la lista completamente\n",
      "[1, 'hola', 3, 'tú', 5, 6, 7]\n",
      "[]\n"
     ]
    }
   ],
   "source": [
    "print(\"limpiar la lista completamente\")\n",
    "print(lista)\n",
    "lista.clear()\n",
    "print(lista)"
   ]
  },
  {
   "cell_type": "markdown",
   "metadata": {},
   "source": [
    "#### **Buscar elementos en una lista**\n",
    "\n",
    "\n",
    "\n",
    "*  Usamos **in** para saber si un elemento existe en la lista."
   ]
  },
  {
   "cell_type": "code",
   "execution_count": 108,
   "metadata": {},
   "outputs": [
    {
     "name": "stdout",
     "output_type": "stream",
     "text": [
      "True\n"
     ]
    }
   ],
   "source": [
    "lista = [\"hola\", 1, 2, \"hola\", 1,2]\n",
    "resp = 1 in lista\n",
    "print(resp)"
   ]
  },
  {
   "cell_type": "markdown",
   "metadata": {},
   "source": [
    "* Usamos **index()** para buscar la posición de un elemento en la lista.\n"
   ]
  },
  {
   "cell_type": "code",
   "execution_count": 109,
   "metadata": {},
   "outputs": [
    {
     "name": "stdout",
     "output_type": "stream",
     "text": [
      "1\n"
     ]
    }
   ],
   "source": [
    "pos = lista.index(1)\n",
    "print(pos)"
   ]
  },
  {
   "cell_type": "markdown",
   "metadata": {},
   "source": [
    "* Usamos **count()** para contar cuantos veces se repite un elemento en la lista."
   ]
  },
  {
   "cell_type": "code",
   "execution_count": 110,
   "metadata": {},
   "outputs": [
    {
     "name": "stdout",
     "output_type": "stream",
     "text": [
      "2\n"
     ]
    }
   ],
   "source": [
    "print(lista.count(2))"
   ]
  },
  {
   "cell_type": "markdown",
   "metadata": {},
   "source": [
    "#### **Otras operaciones en una lista**"
   ]
  },
  {
   "cell_type": "markdown",
   "metadata": {},
   "source": [
    "* Usar **len()** para saber el tamaño de una lista"
   ]
  },
  {
   "cell_type": "code",
   "execution_count": 118,
   "metadata": {},
   "outputs": [
    {
     "name": "stdout",
     "output_type": "stream",
     "text": [
      "tamaño de la lista: 6\n",
      "2\n"
     ]
    }
   ],
   "source": [
    "lista = [1, 2, [3, 6, 8, 4], [1, 2], 8, 9]\n",
    "print(f\"tamaño de la lista: {len(lista)}\")\n",
    "print(len(lista[3]))"
   ]
  },
  {
   "cell_type": "markdown",
   "metadata": {},
   "source": [
    "* Usar **extend()** concatenar dos listas o el simbolo **+**\n",
    "\n",
    "\n"
   ]
  },
  {
   "cell_type": "code",
   "execution_count": 119,
   "metadata": {},
   "outputs": [
    {
     "name": "stdout",
     "output_type": "stream",
     "text": [
      "['lunes', 'martes', 'miercoles', 1, 2, 3]\n"
     ]
    }
   ],
   "source": [
    "lista_1 = [1, 2, 3]\n",
    "lista_2 = [\"lunes\", \"martes\", \"miercoles\"]\n",
    "\n",
    "lista_2.extend(lista_1)\n",
    "print(lista_2)\n"
   ]
  },
  {
   "cell_type": "markdown",
   "metadata": {},
   "source": [
    "* otra forma de concatenar"
   ]
  },
  {
   "cell_type": "code",
   "execution_count": 120,
   "metadata": {},
   "outputs": [
    {
     "name": "stdout",
     "output_type": "stream",
     "text": [
      "[1, 2, 3, 'lunes', 'martes', 'miercoles']\n"
     ]
    }
   ],
   "source": [
    "lista_1 = [1, 2, 3]\n",
    "lista_2 = [\"lunes\", \"martes\", \"miercoles\"]\n",
    "#lista_1 = lista_1 + lista_2\n",
    "lista_1 += lista_2\n",
    "print(lista_1)\n",
    "#OJO al trabajar en NUMPY (matrices). APLICA EN LISTAS"
   ]
  },
  {
   "cell_type": "markdown",
   "metadata": {},
   "source": [
    "* Usar **reverse()** para invertir una lista.\n"
   ]
  },
  {
   "cell_type": "code",
   "execution_count": 121,
   "metadata": {},
   "outputs": [
    {
     "name": "stdout",
     "output_type": "stream",
     "text": [
      "Lista Original\n",
      "['lunes', 'martes', 'miercoles']\n",
      "Lista Invertida\n",
      "['miercoles', 'martes', 'lunes']\n"
     ]
    }
   ],
   "source": [
    "print(\"Lista Original\")\n",
    "lista = [\"lunes\", \"martes\", \"miercoles\"]\n",
    "print(lista)\n",
    "\n",
    "print(\"Lista Invertida\")\n",
    "lista.reverse()\n",
    "print(lista)"
   ]
  },
  {
   "cell_type": "markdown",
   "metadata": {},
   "source": [
    "* Usar **sort()** para ordenar una lista."
   ]
  },
  {
   "cell_type": "code",
   "execution_count": 122,
   "metadata": {},
   "outputs": [
    {
     "name": "stdout",
     "output_type": "stream",
     "text": [
      "Lista original\n",
      "[1, 5, -10, -4, 2, 3, 8, -8]\n",
      "Lista ordenada de menor a mayor\n",
      "[-10, -8, -4, 1, 2, 3, 5, 8]\n"
     ]
    }
   ],
   "source": [
    "print(\"Lista original\")\n",
    "lista = [1, 5, -10, -4, 2, 3, 8, -8]\n",
    "print(lista)\n",
    "\n",
    "print(\"Lista ordenada de menor a mayor\")\n",
    "lista.sort()\n",
    "print(lista)"
   ]
  },
  {
   "cell_type": "code",
   "execution_count": 123,
   "metadata": {},
   "outputs": [
    {
     "name": "stdout",
     "output_type": "stream",
     "text": [
      "Lista original\n",
      "[1, 5, -10, -4, 2, 3, 8, -8]\n",
      "Lista ordenada de mayor a menor\n",
      "[8, 5, 3, 2, 1, -4, -8, -10]\n"
     ]
    }
   ],
   "source": [
    "print(\"Lista original\")\n",
    "lista = [1, 5, -10, -4, 2, 3, 8, -8]\n",
    "print(lista)\n",
    "\n",
    "print(\"Lista ordenada de mayor a menor\")\n",
    "lista.sort(reverse=True)\n",
    "print(lista)"
   ]
  },
  {
   "cell_type": "markdown",
   "metadata": {},
   "source": [
    "## **Tuplas**"
   ]
  },
  {
   "cell_type": "markdown",
   "metadata": {},
   "source": [
    "Una tupla es similar a una lista, solo que es **inmutable**, es decir que sus valores no se pueden modificar.\n",
    "\n",
    "```\n",
    "mi_tupla = ( 'estudiante' , 15 , False )\n",
    "```\n",
    "\n",
    "Para crear una tupla, basta con poner elementos entre **( )** (**paréntesis**) y separarlas con **,** (**comas**).\n",
    "\n",
    "* Acceder a cada elemento se hace del mismo modo que con las listas."
   ]
  },
  {
   "cell_type": "code",
   "execution_count": 127,
   "metadata": {},
   "outputs": [
    {
     "name": "stdout",
     "output_type": "stream",
     "text": [
      "Creando una Tupla. Notese el uso de paréntesis ()\n",
      "Alan Turing\n",
      "programación\n",
      "20\n"
     ]
    }
   ],
   "source": [
    "print(\"Creando una Tupla. Notese el uso de paréntesis ()\")\n",
    "tupla_1 = (\"Alan Turing\" , \"programación\" , 20)\n",
    "print(tupla_1[0])\n",
    "print(tupla_1[1])\n",
    "print(tupla_1[2])"
   ]
  },
  {
   "cell_type": "markdown",
   "metadata": {},
   "source": [
    "* Dado que las tuplas son inmutables no poseen métodos como **append() , pop() , remove()** o cualquiera que intente modificar la tupla. Veamos que sucede si intentamos hacerlo:"
   ]
  },
  {
   "cell_type": "code",
   "execution_count": 128,
   "metadata": {},
   "outputs": [
    {
     "name": "stdout",
     "output_type": "stream",
     "text": [
      "('Hola', 13, 'Elemento')\n"
     ]
    }
   ],
   "source": [
    "tupla_inmutable = ('Hola',13,'Elemento')\n",
    "print(tupla_inmutable)"
   ]
  },
  {
   "cell_type": "code",
   "execution_count": 130,
   "metadata": {},
   "outputs": [
    {
     "data": {
      "text/plain": [
       "'Elemento'"
      ]
     },
     "execution_count": 130,
     "metadata": {},
     "output_type": "execute_result"
    }
   ],
   "source": [
    "tupla_inmutable = ['Hola',13,'Elemento']\n",
    "tupla_inmutable.pop()"
   ]
  },
  {
   "cell_type": "markdown",
   "metadata": {},
   "source": [
    "* Observe que **no se ejecuta el código** y nos muestra un mensaje de **error**. Ahora exploremos los métodos que si funcionan en las tuplas. Definamos la tupla Usuario que tenga información inmutable de una persona como su nombre, año de nacimiento y lugar de nacimiento."
   ]
  },
  {
   "cell_type": "code",
   "execution_count": 131,
   "metadata": {},
   "outputs": [
    {
     "name": "stdout",
     "output_type": "stream",
     "text": [
      "4\n",
      "2\n",
      "1\n"
     ]
    }
   ],
   "source": [
    "usuario = ('Margaret Hamilton', 1936 , 1936, 'Indiana')\n",
    "print(len(usuario))              #Muestra cuantos elementos hay en la tupla\n",
    "print(usuario.count(1936))  #Cuenta cuantas veces aparece el elemento 'Indiana'\n",
    "print(usuario.index(1936))       #Muestra el índice del elemento 1936"
   ]
  },
  {
   "cell_type": "markdown",
   "metadata": {},
   "source": [
    "## **Diccionarios**"
   ]
  },
  {
   "cell_type": "markdown",
   "metadata": {},
   "source": [
    "- Un diccionario es una colección no ordenada de pares clave : valor.\n",
    "- A diferencia de las listas o tuplas (que usan índices numéricos), en un diccionario se accede a los datos mediante sus claves.\n",
    "- Las claves son únicas: no puede haber dos iguales dentro del mismo diccionario.\n",
    "- Si se asigna un valor a una clave ya existente, el valor anterior se sobrescribe.\n",
    "- Las claves pueden ser de distintos tipos (por ejemplo: cadenas, números, tuplas inmutables)."
   ]
  },
  {
   "cell_type": "code",
   "execution_count": 132,
   "metadata": {},
   "outputs": [
    {
     "name": "stdout",
     "output_type": "stream",
     "text": [
      "Carlos\n",
      "12345678\n",
      "['Python', 'Álgebra', 'Economía']\n",
      "Python\n",
      "Álgebra\n",
      "Economía\n"
     ]
    }
   ],
   "source": [
    "#Definir diccionario\n",
    "diccionario_1 = {'usuario' : 'Carlos', 'DNI' : 12345678, 'cursos': ['Python','Álgebra','Economía'] }\n",
    "#Se accede a cada elemento del siguiente modo.\n",
    "print(diccionario_1['usuario'])\n",
    "print(diccionario_1['DNI'])\n",
    "print(diccionario_1['cursos'])\n",
    "#Observe que la clave 'cursos' nos muestra una lista. Por lo que podemos\n",
    "#acceder a cada elemento de la lista del siguiente modo:\n",
    "print(diccionario_1['cursos'][0])\n",
    "print(diccionario_1['cursos'][1])\n",
    "print(diccionario_1['cursos'][2])\n"
   ]
  },
  {
   "cell_type": "markdown",
   "metadata": {},
   "source": [
    "Veamos algunos métodos de los diccionarios."
   ]
  },
  {
   "cell_type": "code",
   "execution_count": 133,
   "metadata": {},
   "outputs": [
    {
     "name": "stdout",
     "output_type": "stream",
     "text": [
      "Carlos\n",
      "dict_keys(['usuario', 'DNI', 'cursos'])\n",
      "dict_values(['Carlos', 12345678, ['Python', 'Álgebra', 'Economía']])\n",
      "{'usuario': 'Carlos', 'cursos': ['Python', 'Álgebra', 'Economía']}\n",
      "['Python', 'Álgebra', 'Economía']\n",
      "{'usuario': 'Carlos'}\n",
      "{}\n"
     ]
    }
   ],
   "source": [
    "print(diccionario_1.get('usuario')) # Muestra el valor de la clave 'usuario'\n",
    "print(diccionario_1.keys())         # Muestra las claves del diccionario\n",
    "print(diccionario_1.values())       # Muestra los valores del diccionario\n",
    "del diccionario_1['DNI']            #Elimina el valor correspondiente a la clave 'DNI'\n",
    "print(diccionario_1)                #Mostrar nuevo diccionario\n",
    "print(diccionario_1.pop('cursos'))  #Muestra el valor correspondiente a la clave 'cursos' y la elimina\n",
    "print(diccionario_1)                #Mostrar nuevo diccionario\n",
    "diccionario_1.clear()               #Elimina todos los elementos del diccionario\n",
    "print(diccionario_1)                #Mostrar nuevo diccionario"
   ]
  },
  {
   "cell_type": "markdown",
   "metadata": {},
   "source": [
    ">## **Conjuntos**"
   ]
  },
  {
   "cell_type": "markdown",
   "metadata": {},
   "source": [
    "Un conjunto es una colección de **datos no ordenada** y no presenta  elementos repetidos.\n",
    "\n",
    "Se comportan del mismo modo que los conjuntos utilizados en matemáticas y lógica.\n",
    "\n",
    "Para crear un conjunto, basta con poner elementos entre **{ }** (**llaves**) y separarlas con **,** (**comas**).\n",
    "\n",
    "```\n",
    "mi_conjunto = {0 , 2 , 4 , 6 , 8 , 10 }\n",
    "```\n",
    "\n",
    "\n",
    "**OJO:** Ya que no existe un índice que caracterice a cada elemento de un conjunto, no es posible acceder a los elementos del modo tradicional. Sin embargo, es posible hacerlo utilizando un bucle, esto lo veremos más adelante.\n",
    "\n",
    "Exploraremos los métodos correspondientes a los conjuntos:"
   ]
  },
  {
   "cell_type": "code",
   "execution_count": 134,
   "metadata": {},
   "outputs": [
    {
     "name": "stdout",
     "output_type": "stream",
     "text": [
      "{2, 3, 5, 7, 11}\n",
      "{2, 3, 5, 7, 11, 13}\n",
      "{2, 3, 7, 11, 13}\n",
      "set()\n"
     ]
    }
   ],
   "source": [
    "#Conjuntos\n",
    "#Definir un conjunto\n",
    "mi_conjunto = {2,3,5,7,11}\n",
    "print(mi_conjunto)\n",
    "\n",
    "mi_conjunto.add(13)   #Añadir el elemento 13\n",
    "print(mi_conjunto)    #Mostrar el nuevo conjunto\n",
    "\n",
    "mi_conjunto.remove(5) #Remover el elemento 5\n",
    "print(mi_conjunto)    #Mostrar el nuevo conjunto\n",
    "\n",
    "mi_conjunto.clear()   #Vaciar los elementos del conjunto\n",
    "print(mi_conjunto)    #Mostar nuevo conjunto"
   ]
  },
  {
   "cell_type": "code",
   "execution_count": 135,
   "metadata": {},
   "outputs": [
    {
     "name": "stdout",
     "output_type": "stream",
     "text": [
      "1\n",
      "2\n",
      "3\n",
      "4\n",
      "5\n"
     ]
    }
   ],
   "source": [
    "mi_conjunto = {1, 2, 3, 4, 5}\n",
    "\n",
    "for elemento in mi_conjunto:\n",
    "    print(elemento)"
   ]
  },
  {
   "cell_type": "code",
   "execution_count": 136,
   "metadata": {},
   "outputs": [
    {
     "name": "stdout",
     "output_type": "stream",
     "text": [
      "El elemento 4 está en el conjunto\n"
     ]
    }
   ],
   "source": [
    "mi_conjunto = {1, 2, 3, 4, 5}\n",
    "\n",
    "e_buscar = 4\n",
    "\n",
    "if e_buscar in mi_conjunto:\n",
    "    print(f\"El elemento {e_buscar} está en el conjunto\")\n",
    "else:\n",
    "    print(f\"El elemento {e_buscar} no está en el conjunto\")"
   ]
  },
  {
   "cell_type": "code",
   "execution_count": 137,
   "metadata": {},
   "outputs": [
    {
     "name": "stdout",
     "output_type": "stream",
     "text": [
      "{2, 3, 5, 7, 11}\n",
      "{2, 3, 5, 7, 11}\n"
     ]
    }
   ],
   "source": [
    "mi_conjunto = {2,3,5,7,11}\n",
    "print(mi_conjunto)\n",
    "mi_conjunto.add(5)\n",
    "print(mi_conjunto)"
   ]
  },
  {
   "cell_type": "markdown",
   "metadata": {},
   "source": [
    "Dado que los conjuntos poseen las mismas características de los estudiados en matemáticas y lógica, se pueden realizar las mismas operaciones como la **intersección**, **unión**, **diferencia** o **diferencia simétrica**. Definiremos 2 conjuntos y aplicaremos estas operaciones. Los conjuntos a definir serán las clases que llevan los estudiantes de ingenierías y los de derecho."
   ]
  },
  {
   "cell_type": "code",
   "execution_count": 138,
   "metadata": {},
   "outputs": [
    {
     "name": "stdout",
     "output_type": "stream",
     "text": [
      "Clases de ingeniería:  {'programación', 'historia', 'álgebra', 'química', 'inglés'}\n",
      "Clases de derecho:  {'derecho civil', 'filosofía', 'álgebra', 'economía', 'inglés'}\n",
      "Intersección:  {'inglés', 'álgebra'}\n",
      "Union:  {'programación', 'derecho civil', 'álgebra', 'economía', 'inglés', 'historia', 'filosofía', 'química'}\n",
      "Diferencia:  {'programación', 'historia', 'química'}\n",
      "Diferencia:  {'economía', 'derecho civil', 'filosofía'}\n",
      "Diferencia simétrica:  {'programación', 'derecho civil', 'filosofía', 'historia', 'química', 'economía'}\n"
     ]
    }
   ],
   "source": [
    "ingenieria = {'álgebra','programación','historia','química','inglés'}\n",
    "derecho = {'inglés','derecho civil','filosofía','álgebra','economía'}\n",
    "print('Clases de ingeniería: ', ingenieria)\n",
    "print('Clases de derecho: ',derecho)\n",
    "print('Intersección: ',ingenieria.intersection(derecho)) #Elementos en común\n",
    "print('Union: ', ingenieria.union(derecho)) #Unión de todos los elementos\n",
    "print('Diferencia: ',ingenieria.difference(derecho)) #Elementos en ingeniería pero no en derecho\n",
    "print('Diferencia: ',derecho.difference(ingenieria)) #Elementos en derecho pero no en ingeniería\n",
    "print('Diferencia simétrica: ',ingenieria.symmetric_difference(derecho)) #Todos los elementos excepto la intersección"
   ]
  },
  {
   "cell_type": "code",
   "execution_count": 139,
   "metadata": {},
   "outputs": [
    {
     "name": "stdout",
     "output_type": "stream",
     "text": [
      "{'inglés', 'álgebra'}\n",
      "{'programación', 'historia', 'química'}\n",
      "{1, 2, 3}\n"
     ]
    }
   ],
   "source": [
    "ingenieria = {'álgebra','programación','historia','química','inglés'}\n",
    "derecho = {'inglés','derecho civil','filosofía','álgebra','economía'}\n",
    "\n",
    "inter = ingenieria.intersection(derecho)\n",
    "print(inter)\n",
    "\n",
    "#elementos solo de ingernieria\n",
    "dife = ingenieria.difference(derecho)\n",
    "print(dife)\n",
    "\n",
    "lista1 = set([1,2,3])\n",
    "lista2 = set([4,2,6])\n",
    "print(lista1)"
   ]
  }
 ],
 "metadata": {
  "colab": {
   "provenance": []
  },
  "kernelspec": {
   "display_name": "mi_entorno",
   "language": "python",
   "name": "python3"
  },
  "language_info": {
   "codemirror_mode": {
    "name": "ipython",
    "version": 3
   },
   "file_extension": ".py",
   "mimetype": "text/x-python",
   "name": "python",
   "nbconvert_exporter": "python",
   "pygments_lexer": "ipython3",
   "version": "3.10.18"
  }
 },
 "nbformat": 4,
 "nbformat_minor": 0
}
